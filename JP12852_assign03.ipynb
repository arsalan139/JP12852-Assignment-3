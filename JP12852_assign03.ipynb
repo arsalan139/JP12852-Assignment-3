{
 "cells": [
  {
   "cell_type": "code",
   "execution_count": 10,
   "id": "a41645f0",
   "metadata": {},
   "outputs": [
    {
     "name": "stdout",
     "output_type": "stream",
     "text": [
      "Twinkle, twinkle, little star,       \n",
      "\tHow I wonder what you are!       \n",
      "\t\tUp above the world so high,       \n",
      "\t\tLike a diamond in the sky.       \n",
      "Twinkle, twinkle, little star,       \n",
      "\tHow I wonder what you are!\n"
     ]
    }
   ],
   "source": [
    "print(\"Twinkle, twinkle, little star, \\\n",
    "      \\n\\tHow I wonder what you are! \\\n",
    "      \\n\\t\\tUp above the world so high, \\\n",
    "      \\n\\t\\tLike a diamond in the sky. \\\n",
    "      \\nTwinkle, twinkle, little star, \\\n",
    "      \\n\\tHow I wonder what you are!\")\n"
   ]
  },
  {
   "cell_type": "code",
   "execution_count": 12,
   "id": "5daf4716",
   "metadata": {},
   "outputs": [
    {
     "name": "stdout",
     "output_type": "stream",
     "text": [
      "3.8.8\n"
     ]
    }
   ],
   "source": [
    "import platform\n",
    "print(platform.python_version())\n"
   ]
  },
  {
   "cell_type": "code",
   "execution_count": 13,
   "id": "90ef33f9",
   "metadata": {},
   "outputs": [
    {
     "name": "stdout",
     "output_type": "stream",
     "text": [
      "Current date and time is: \n",
      "2021-10-22 21:58:02\n"
     ]
    }
   ],
   "source": [
    "import datetime\n",
    "time = datetime.datetime.now()\n",
    "print (\"Current date and time is: \")\n",
    "print (time.strftime(\"%Y-%m-%d %H:%M:%S\"))\n"
   ]
  },
  {
   "cell_type": "code",
   "execution_count": 22,
   "id": "68e01f46",
   "metadata": {},
   "outputs": [
    {
     "name": "stdout",
     "output_type": "stream",
     "text": [
      "Enter the radius of the circle: 5\n",
      "The area of the circle is: 78.53981633974483\n"
     ]
    }
   ],
   "source": [
    "from math import pi\n",
    "rad = float(input (\"Enter the radius of the circle: \"))\n",
    "print (\"The area of the circle is: \" + str(pi * rad**2))\n"
   ]
  },
  {
   "cell_type": "code",
   "execution_count": 24,
   "id": "f329068a",
   "metadata": {},
   "outputs": [
    {
     "name": "stdout",
     "output_type": "stream",
     "text": [
      "Input your First Name : Muhammad\n",
      "Input your Last Name : Arsalan\n",
      "Arsalan Muhammad\n"
     ]
    }
   ],
   "source": [
    "fname = input(\"Input your First Name : \")\n",
    "lname = input(\"Input your Last Name : \")\n",
    "print (lname + \" \" + fname)\n"
   ]
  },
  {
   "cell_type": "code",
   "execution_count": 25,
   "id": "c81d42eb",
   "metadata": {},
   "outputs": [
    {
     "name": "stdout",
     "output_type": "stream",
     "text": [
      "Enter first Number5\n",
      "Enter second Number6\n",
      "The sum is: 11\n"
     ]
    }
   ],
   "source": [
    "input1=int(input(\"Enter first Number\"))\n",
    "input2=int(input(\"Enter second Number\"))\n",
    "sum=print(\"The sum is: \"+str(input1+input2))"
   ]
  },
  {
   "cell_type": "code",
   "execution_count": 26,
   "id": "7b761f5a",
   "metadata": {},
   "outputs": [
    {
     "name": "stdout",
     "output_type": "stream",
     "text": [
      "Enter marks of the first subject: 54\n",
      "Enter marks of the second subject: 75\n",
      "Enter marks of the third subject: 67\n",
      "Enter marks of the fourth subject: 93\n",
      "Enter marks of the fifth subject: 34\n",
      "Grade B\n"
     ]
    }
   ],
   "source": [
    "subject1=int(input(\"Enter marks of the first subject: \"))\n",
    "subject2=int(input(\"Enter marks of the second subject: \"))\n",
    "subject3=int(input(\"Enter marks of the third subject: \"))\n",
    "subject4=int(input(\"Enter marks of the fourth subject: \"))\n",
    "subject5=int(input(\"Enter marks of the fifth subject: \"))\n",
    "ObtainedMarks=subject1+subject2+subject3+subject4+subject5;\n",
    "TotalMarks=500;\n",
    "percentage = (ObtainedMarks/TotalMarks) * 100;\n",
    "if percentage < 100 and percentage >= 80:\n",
    "    print(\"Grade A+\")\n",
    "elif percentage < 80 and percentage >= 70:\n",
    "    print(\"Grade A\")\n",
    "elif percentage < 70 and percentage >= 60:\n",
    "    print(\"Grade B\")\n",
    "elif percentage < 60 and percentage >= 50:\n",
    "    print(\"Grade C\")\n",
    "elif percentage < 50 and percentage >= 40:\n",
    "    print(\"Grade D\")\n",
    "elif percentage < 40 and percentage >= 33:\n",
    "    print(\"Grade E\")\n",
    "elif percentage < 33 and percentage >= 0:\n",
    "    print(\"Grade F\")\n",
    "else: print (\"Invalid Percentage as it should be between 0-100\")"
   ]
  },
  {
   "cell_type": "code",
   "execution_count": 28,
   "id": "6af3fa22",
   "metadata": {},
   "outputs": [
    {
     "name": "stdout",
     "output_type": "stream",
     "text": [
      "Enter the number you want to check: 4\n",
      "Given number is Even\n"
     ]
    }
   ],
   "source": [
    "num=int(input(\"Enter the number you want to check: \"))\n",
    "if num%2==0:\n",
    "    print(\"Given number is Even\")\n",
    "else: print(\"Given number is Odd\")"
   ]
  },
  {
   "cell_type": "code",
   "execution_count": 31,
   "id": "98a281ff",
   "metadata": {},
   "outputs": [
    {
     "name": "stdout",
     "output_type": "stream",
     "text": [
      "Length of the List is: 5\n"
     ]
    }
   ],
   "source": [
    "list = [1,2,3,4,5]\n",
    "print(\"Length of the List is: \" + str(len(list)))\n"
   ]
  },
  {
   "cell_type": "code",
   "execution_count": 41,
   "id": "f998e7c8",
   "metadata": {},
   "outputs": [
    {
     "name": "stdout",
     "output_type": "stream",
     "text": [
      "Sum of elements in given list is:  15\n"
     ]
    }
   ],
   "source": [
    "add = 0\n",
    "liste = [1, 2, 3, 4, 5]\n",
    "for elements in range(0, len(liste)):\n",
    "    add = add + liste[elements]\n",
    "print(\"Sum of elements in given list is: \", add)"
   ]
  },
  {
   "cell_type": "code",
   "execution_count": 43,
   "id": "aa64cc37",
   "metadata": {},
   "outputs": [
    {
     "name": "stdout",
     "output_type": "stream",
     "text": [
      "Largest element is:  30\n"
     ]
    }
   ],
   "source": [
    "liste = [5, 18, 30, 7, 8]\n",
    "print(\"Largest element is: \", max(liste))\n"
   ]
  },
  {
   "cell_type": "code",
   "execution_count": 45,
   "id": "0881b6be",
   "metadata": {},
   "outputs": [
    {
     "name": "stdout",
     "output_type": "stream",
     "text": [
      "1\n",
      "\n",
      "1\n",
      "\n",
      "2\n",
      "\n",
      "3\n",
      "\n"
     ]
    }
   ],
   "source": [
    "liste= [1, 1, 2, 3, 5, 8, 13, 21, 34, 55, 89]\n",
    "for elements in liste:\n",
    "    if(int(elements) <5):\n",
    "        print(str(elements)+\"\\n\")"
   ]
  },
  {
   "cell_type": "code",
   "execution_count": null,
   "id": "df6c52e8",
   "metadata": {},
   "outputs": [],
   "source": []
  }
 ],
 "metadata": {
  "kernelspec": {
   "display_name": "Python 3",
   "language": "python",
   "name": "python3"
  },
  "language_info": {
   "codemirror_mode": {
    "name": "ipython",
    "version": 3
   },
   "file_extension": ".py",
   "mimetype": "text/x-python",
   "name": "python",
   "nbconvert_exporter": "python",
   "pygments_lexer": "ipython3",
   "version": "3.8.8"
  }
 },
 "nbformat": 4,
 "nbformat_minor": 5
}
